{
 "cells": [
  {
   "cell_type": "markdown",
   "id": "5d8e424e",
   "metadata": {},
   "source": [
    "### Naive Byae's Classifier"
   ]
  },
  {
   "cell_type": "code",
   "execution_count": 28,
   "id": "5e9e5ebf",
   "metadata": {},
   "outputs": [],
   "source": [
    "# importing libraries\n",
    "import numpy as np\n",
    "import pandas as pd\n",
    "import matplotlib.pyplot as plt\n",
    "import seaborn as sns"
   ]
  },
  {
   "cell_type": "code",
   "execution_count": 2,
   "id": "7d5bf153",
   "metadata": {},
   "outputs": [],
   "source": [
    "#importing dataset\n",
    "df=pd.read_csv('IRIS.csv')"
   ]
  },
  {
   "cell_type": "code",
   "execution_count": 3,
   "id": "0d17a7ad",
   "metadata": {},
   "outputs": [
    {
     "data": {
      "text/html": [
       "<div>\n",
       "<style scoped>\n",
       "    .dataframe tbody tr th:only-of-type {\n",
       "        vertical-align: middle;\n",
       "    }\n",
       "\n",
       "    .dataframe tbody tr th {\n",
       "        vertical-align: top;\n",
       "    }\n",
       "\n",
       "    .dataframe thead th {\n",
       "        text-align: right;\n",
       "    }\n",
       "</style>\n",
       "<table border=\"1\" class=\"dataframe\">\n",
       "  <thead>\n",
       "    <tr style=\"text-align: right;\">\n",
       "      <th></th>\n",
       "      <th>sepal_length</th>\n",
       "      <th>sepal_width</th>\n",
       "      <th>petal_length</th>\n",
       "      <th>petal_width</th>\n",
       "      <th>species</th>\n",
       "    </tr>\n",
       "  </thead>\n",
       "  <tbody>\n",
       "    <tr>\n",
       "      <th>0</th>\n",
       "      <td>5.1</td>\n",
       "      <td>3.5</td>\n",
       "      <td>1.4</td>\n",
       "      <td>0.2</td>\n",
       "      <td>Iris-setosa</td>\n",
       "    </tr>\n",
       "    <tr>\n",
       "      <th>1</th>\n",
       "      <td>4.9</td>\n",
       "      <td>3.0</td>\n",
       "      <td>1.4</td>\n",
       "      <td>0.2</td>\n",
       "      <td>Iris-setosa</td>\n",
       "    </tr>\n",
       "    <tr>\n",
       "      <th>2</th>\n",
       "      <td>4.7</td>\n",
       "      <td>3.2</td>\n",
       "      <td>1.3</td>\n",
       "      <td>0.2</td>\n",
       "      <td>Iris-setosa</td>\n",
       "    </tr>\n",
       "    <tr>\n",
       "      <th>3</th>\n",
       "      <td>4.6</td>\n",
       "      <td>3.1</td>\n",
       "      <td>1.5</td>\n",
       "      <td>0.2</td>\n",
       "      <td>Iris-setosa</td>\n",
       "    </tr>\n",
       "    <tr>\n",
       "      <th>4</th>\n",
       "      <td>5.0</td>\n",
       "      <td>3.6</td>\n",
       "      <td>1.4</td>\n",
       "      <td>0.2</td>\n",
       "      <td>Iris-setosa</td>\n",
       "    </tr>\n",
       "  </tbody>\n",
       "</table>\n",
       "</div>"
      ],
      "text/plain": [
       "   sepal_length  sepal_width  petal_length  petal_width      species\n",
       "0           5.1          3.5           1.4          0.2  Iris-setosa\n",
       "1           4.9          3.0           1.4          0.2  Iris-setosa\n",
       "2           4.7          3.2           1.3          0.2  Iris-setosa\n",
       "3           4.6          3.1           1.5          0.2  Iris-setosa\n",
       "4           5.0          3.6           1.4          0.2  Iris-setosa"
      ]
     },
     "execution_count": 3,
     "metadata": {},
     "output_type": "execute_result"
    }
   ],
   "source": [
    "df.head()"
   ]
  },
  {
   "cell_type": "code",
   "execution_count": 16,
   "id": "92172279",
   "metadata": {},
   "outputs": [
    {
     "data": {
      "text/plain": [
       "sepal_length    0\n",
       "sepal_width     0\n",
       "petal_length    0\n",
       "petal_width     0\n",
       "species         0\n",
       "dtype: int64"
      ]
     },
     "execution_count": 16,
     "metadata": {},
     "output_type": "execute_result"
    }
   ],
   "source": [
    "df.isnull().sum()"
   ]
  },
  {
   "cell_type": "code",
   "execution_count": 4,
   "id": "3f1287d7",
   "metadata": {},
   "outputs": [],
   "source": [
    "x=df.drop('species',axis=1)\n",
    "y=df['species']"
   ]
  },
  {
   "cell_type": "code",
   "execution_count": 5,
   "id": "2401b7f5",
   "metadata": {},
   "outputs": [
    {
     "data": {
      "text/html": [
       "<div>\n",
       "<style scoped>\n",
       "    .dataframe tbody tr th:only-of-type {\n",
       "        vertical-align: middle;\n",
       "    }\n",
       "\n",
       "    .dataframe tbody tr th {\n",
       "        vertical-align: top;\n",
       "    }\n",
       "\n",
       "    .dataframe thead th {\n",
       "        text-align: right;\n",
       "    }\n",
       "</style>\n",
       "<table border=\"1\" class=\"dataframe\">\n",
       "  <thead>\n",
       "    <tr style=\"text-align: right;\">\n",
       "      <th></th>\n",
       "      <th>sepal_length</th>\n",
       "      <th>sepal_width</th>\n",
       "      <th>petal_length</th>\n",
       "      <th>petal_width</th>\n",
       "    </tr>\n",
       "  </thead>\n",
       "  <tbody>\n",
       "    <tr>\n",
       "      <th>0</th>\n",
       "      <td>5.1</td>\n",
       "      <td>3.5</td>\n",
       "      <td>1.4</td>\n",
       "      <td>0.2</td>\n",
       "    </tr>\n",
       "    <tr>\n",
       "      <th>1</th>\n",
       "      <td>4.9</td>\n",
       "      <td>3.0</td>\n",
       "      <td>1.4</td>\n",
       "      <td>0.2</td>\n",
       "    </tr>\n",
       "    <tr>\n",
       "      <th>2</th>\n",
       "      <td>4.7</td>\n",
       "      <td>3.2</td>\n",
       "      <td>1.3</td>\n",
       "      <td>0.2</td>\n",
       "    </tr>\n",
       "    <tr>\n",
       "      <th>3</th>\n",
       "      <td>4.6</td>\n",
       "      <td>3.1</td>\n",
       "      <td>1.5</td>\n",
       "      <td>0.2</td>\n",
       "    </tr>\n",
       "    <tr>\n",
       "      <th>4</th>\n",
       "      <td>5.0</td>\n",
       "      <td>3.6</td>\n",
       "      <td>1.4</td>\n",
       "      <td>0.2</td>\n",
       "    </tr>\n",
       "    <tr>\n",
       "      <th>...</th>\n",
       "      <td>...</td>\n",
       "      <td>...</td>\n",
       "      <td>...</td>\n",
       "      <td>...</td>\n",
       "    </tr>\n",
       "    <tr>\n",
       "      <th>145</th>\n",
       "      <td>6.7</td>\n",
       "      <td>3.0</td>\n",
       "      <td>5.2</td>\n",
       "      <td>2.3</td>\n",
       "    </tr>\n",
       "    <tr>\n",
       "      <th>146</th>\n",
       "      <td>6.3</td>\n",
       "      <td>2.5</td>\n",
       "      <td>5.0</td>\n",
       "      <td>1.9</td>\n",
       "    </tr>\n",
       "    <tr>\n",
       "      <th>147</th>\n",
       "      <td>6.5</td>\n",
       "      <td>3.0</td>\n",
       "      <td>5.2</td>\n",
       "      <td>2.0</td>\n",
       "    </tr>\n",
       "    <tr>\n",
       "      <th>148</th>\n",
       "      <td>6.2</td>\n",
       "      <td>3.4</td>\n",
       "      <td>5.4</td>\n",
       "      <td>2.3</td>\n",
       "    </tr>\n",
       "    <tr>\n",
       "      <th>149</th>\n",
       "      <td>5.9</td>\n",
       "      <td>3.0</td>\n",
       "      <td>5.1</td>\n",
       "      <td>1.8</td>\n",
       "    </tr>\n",
       "  </tbody>\n",
       "</table>\n",
       "<p>150 rows × 4 columns</p>\n",
       "</div>"
      ],
      "text/plain": [
       "     sepal_length  sepal_width  petal_length  petal_width\n",
       "0             5.1          3.5           1.4          0.2\n",
       "1             4.9          3.0           1.4          0.2\n",
       "2             4.7          3.2           1.3          0.2\n",
       "3             4.6          3.1           1.5          0.2\n",
       "4             5.0          3.6           1.4          0.2\n",
       "..            ...          ...           ...          ...\n",
       "145           6.7          3.0           5.2          2.3\n",
       "146           6.3          2.5           5.0          1.9\n",
       "147           6.5          3.0           5.2          2.0\n",
       "148           6.2          3.4           5.4          2.3\n",
       "149           5.9          3.0           5.1          1.8\n",
       "\n",
       "[150 rows x 4 columns]"
      ]
     },
     "execution_count": 5,
     "metadata": {},
     "output_type": "execute_result"
    }
   ],
   "source": [
    "x"
   ]
  },
  {
   "cell_type": "markdown",
   "id": "282c9c81",
   "metadata": {},
   "source": [
    "### DATA VISUALISATION"
   ]
  },
  {
   "cell_type": "code",
   "execution_count": 24,
   "id": "0593eaa7",
   "metadata": {},
   "outputs": [
    {
     "data": {
      "text/plain": [
       "<AxesSubplot:xlabel='species', ylabel='count'>"
      ]
     },
     "execution_count": 24,
     "metadata": {},
     "output_type": "execute_result"
    },
    {
     "data": {
      "image/png": "[encoded data removed]",
      "text/plain": [
       "<Figure size 432x288 with 1 Axes>"
      ]
     },
     "metadata": {
      "needs_background": "light"
     },
     "output_type": "display_data"
    }
   ],
   "source": [
    "sns.countplot(x=df['species'])"
   ]
  },
  {
   "cell_type": "code",
   "execution_count": 25,
   "id": "247216ff",
   "metadata": {},
   "outputs": [
    {
     "name": "stderr",
     "output_type": "stream",
     "text": [
      "D:\\jupyter\\lib\\site-packages\\seaborn\\_decorators.py:36: FutureWarning: Pass the following variables as keyword args: x, y. From version 0.12, the only valid positional argument will be `data`, and passing other arguments without an explicit keyword will result in an error or misinterpretation.\n",
      "  warnings.warn(\n"
     ]
    },
    {
     "data": {
      "text/plain": [
       "<AxesSubplot:xlabel='sepal_length', ylabel='species'>"
      ]
     },
     "execution_count": 25,
     "metadata": {},
     "output_type": "execute_result"
    },
    {
     "data": {
      "image/png": "[encoded data removed]",
      "text/plain": [
       "<Figure size 432x288 with 1 Axes>"
      ]
     },
     "metadata": {
      "needs_background": "light"
     },
     "output_type": "display_data"
    }
   ],
   "source": [
    "sns.barplot(df['sepal_length'],df['species'])"
   ]
  },
  {
   "cell_type": "code",
   "execution_count": 26,
   "id": "d406df19",
   "metadata": {},
   "outputs": [
    {
     "data": {
      "text/plain": [
       "Text(0.5, 1.0, 'sepal_width vs petal_length')"
      ]
     },
     "execution_count": 26,
     "metadata": {},
     "output_type": "execute_result"
    },
    {
     "data": {
      "image/png": "[encoded data removed]",
      "text/plain": [
       "<Figure size 432x288 with 1 Axes>"
      ]
     },
     "metadata": {
      "needs_background": "light"
     },
     "output_type": "display_data"
    }
   ],
   "source": [
    "plt.scatter(df['sepal_width'],df['petal_length'])\n",
    "plt.xlabel('sepal_width')\n",
    "plt.ylabel('petal_length')\n",
    "plt.title('sepal_width vs petal_length')"
   ]
  },
  {
   "cell_type": "markdown",
   "id": "e3b17b8c",
   "metadata": {},
   "source": [
    "### SPLITTING AND TRAINING DATASET"
   ]
  },
  {
   "cell_type": "code",
   "execution_count": 6,
   "id": "1f3d99fd",
   "metadata": {},
   "outputs": [],
   "source": [
    "from sklearn.model_selection import train_test_split\n",
    "x_train, x_test, y_train, y_test= train_test_split(x, y, test_size = 0.20, random_state = 82)\n"
   ]
  },
  {
   "cell_type": "code",
   "execution_count": 7,
   "id": "f9bbad9e",
   "metadata": {},
   "outputs": [],
   "source": [
    "\n",
    "from sklearn.preprocessing import StandardScaler\n",
    "sc = StandardScaler ()\n",
    "\n",
    "x_train = sc.fit_transform(x_train)\n",
    "\n",
    "x_test= sc. transform (x_test)"
   ]
  },
  {
   "cell_type": "code",
   "execution_count": 8,
   "id": "323c4aae",
   "metadata": {},
   "outputs": [
    {
     "data": {
      "text/plain": [
       "array([[-1.00251953,  1.03162171, -1.40606109, -1.20517074],\n",
       "       [ 2.14105929, -0.10410861,  1.62428406,  1.19627649],\n",
       "       [-0.88161265,  1.03162171, -1.34888477, -1.33858448],\n",
       "       [ 0.20654925, -0.10410861,  0.59511023,  0.79603529],\n",
       "       [ 0.56926988, -1.23983894,  0.70946288,  0.92944902],\n",
       "       [-1.24433328,  0.12303745, -1.23453212, -1.33858448],\n",
       "       [-0.76070577,  0.80447565, -1.34888477, -1.33858448],\n",
       "       [-0.15617138,  3.0759363 , -1.29170844, -1.07175701],\n",
       "       [-0.15617138, -0.55840074,  0.42358126,  0.12896661],\n",
       "       [-0.88161265,  0.80447565, -1.29170844, -1.33858448],\n",
       "       [ 0.32745613, -0.10410861,  0.65228656,  0.79603529],\n",
       "       [ 0.20654925, -0.78554681,  0.7666392 ,  0.52920782],\n",
       "       [ 0.69017676, -0.55840074,  1.05252082,  1.32969023],\n",
       "       [ 0.56926988, -0.55840074,  0.7666392 ,  0.39579408],\n",
       "       [-0.88161265,  0.57732958, -1.1773558 , -0.93834327],\n",
       "       [ 2.26196617,  1.71305991,  1.68146038,  1.32969023],\n",
       "       [-1.12342641, -1.23983894,  0.42358126,  0.66262155],\n",
       "       [-0.27707826, -0.78554681,  0.25205229,  0.12896661],\n",
       "       [ 0.81108364, -0.10410861,  1.16687347,  1.32969023],\n",
       "       [-0.15617138, -1.01269287, -0.14818197, -0.27127459],\n",
       "       [ 0.32745613, -0.10410861,  0.48075759,  0.26238035],\n",
       "       [-1.00251953, -2.37556926, -0.14818197, -0.27127459],\n",
       "       [ 2.26196617, -1.01269287,  1.79581303,  1.46310396],\n",
       "       [-1.24433328,  0.80447565, -1.23453212, -1.33858448],\n",
       "       [-0.03526451,  2.16735204, -1.46323741, -1.33858448],\n",
       "       [-1.00251953,  1.25876778, -1.34888477, -1.33858448],\n",
       "       [-1.48614704,  1.25876778, -1.57759006, -1.33858448],\n",
       "       [-0.63979889,  1.48591384, -1.29170844, -1.33858448],\n",
       "       [ 0.56926988,  0.57732958,  0.53793391,  0.52920782],\n",
       "       [ 0.69017676, -0.33125468,  0.30922862,  0.12896661],\n",
       "       [-1.60705392, -1.69413107, -1.40606109, -1.20517074],\n",
       "       [-0.27707826, -0.10410861,  0.42358126,  0.39579408],\n",
       "       [-0.76070577,  1.03162171, -1.29170844, -1.33858448],\n",
       "       [ 1.05289739,  0.12303745,  0.53793391,  0.39579408],\n",
       "       [ 1.89924554, -0.55840074,  1.33840244,  0.92944902],\n",
       "       [-0.15617138, -0.10410861,  0.25205229, -0.00444712],\n",
       "       [-1.48614704,  0.80447565, -1.34888477, -1.20517074],\n",
       "       [-1.24433328, -0.10410861, -1.34888477, -1.47199821],\n",
       "       [ 0.32745613, -0.55840074,  0.13769965,  0.12896661],\n",
       "       [ 1.05289739,  0.12303745,  1.05252082,  1.5965177 ],\n",
       "       [ 0.448363  ,  0.80447565,  0.93816817,  1.46310396],\n",
       "       [ 0.56926988, -1.69413107,  0.36640494,  0.12896661],\n",
       "       [ 1.5365249 , -0.10410861,  1.22404979,  1.19627649],\n",
       "       [-0.03526451, -0.78554681,  0.19487597, -0.27127459],\n",
       "       [-1.72796079, -0.10410861, -1.40606109, -1.33858448],\n",
       "       [-0.39798514, -1.466985  , -0.03382932, -0.27127459],\n",
       "       [-1.12342641, -0.10410861, -1.34888477, -1.33858448],\n",
       "       [ 0.69017676, -0.78554681,  0.88099185,  0.92944902],\n",
       "       [-0.15617138, -0.55840074,  0.19487597,  0.12896661],\n",
       "       [-0.39798514,  2.62164417, -1.34888477, -1.33858448],\n",
       "       [-0.76070577, -0.78554681,  0.08052332,  0.26238035],\n",
       "       [ 0.81108364, -0.55840074,  0.48075759,  0.39579408],\n",
       "       [-0.51889202,  1.94020597, -1.1773558 , -1.07175701],\n",
       "       [-0.15617138, -0.33125468,  0.25205229,  0.12896661],\n",
       "       [ 1.77833866, -0.33125468,  1.45275509,  0.79603529],\n",
       "       [ 2.26196617, -0.10410861,  1.33840244,  1.46310396],\n",
       "       [-0.39798514, -1.69413107,  0.13769965,  0.12896661],\n",
       "       [ 0.20654925, -0.33125468,  0.42358126,  0.39579408],\n",
       "       [ 0.56926988,  0.57732958,  1.28122612,  1.72993143],\n",
       "       [-0.88161265,  1.48591384, -1.29170844, -1.07175701],\n",
       "       [-1.24433328,  0.80447565, -1.06300315, -1.33858448],\n",
       "       [-1.00251953,  0.57732958, -1.34888477, -1.33858448],\n",
       "       [ 0.56926988, -0.78554681,  0.65228656,  0.79603529],\n",
       "       [ 0.93199052, -0.10410861,  0.36640494,  0.26238035],\n",
       "       [-0.27707826, -0.33125468, -0.09100565,  0.12896661],\n",
       "       [ 0.20654925,  0.80447565,  0.42358126,  0.52920782],\n",
       "       [-0.51889202,  1.48591384, -1.29170844, -1.33858448],\n",
       "       [ 1.65743178,  1.25876778,  1.33840244,  1.72993143],\n",
       "       [-1.72796079, -0.33125468, -1.34888477, -1.33858448],\n",
       "       [-0.03526451, -0.78554681,  0.7666392 ,  0.92944902],\n",
       "       [-0.88161265,  1.03162171, -1.34888477, -1.20517074],\n",
       "       [ 0.69017676,  0.35018352,  0.88099185,  1.46310396],\n",
       "       [ 0.56926988,  0.80447565,  1.05252082,  1.5965177 ],\n",
       "       [ 0.32745613, -0.55840074,  0.53793391, -0.00444712],\n",
       "       [ 0.448363  , -0.55840074,  0.59511023,  0.79603529],\n",
       "       [ 2.26196617, -0.55840074,  1.68146038,  1.06286276],\n",
       "       [-1.12342641,  0.12303745, -1.29170844, -1.47199821],\n",
       "       [ 0.69017676,  0.12303745,  0.9953445 ,  0.79603529],\n",
       "       [-0.27707826, -0.55840074,  0.65228656,  1.06286276],\n",
       "       [-0.39798514, -1.01269287,  0.36640494, -0.00444712],\n",
       "       [-0.51889202, -0.10410861,  0.42358126,  0.39579408],\n",
       "       [-1.24433328, -0.10410861, -1.34888477, -1.20517074],\n",
       "       [ 0.81108364, -0.10410861,  0.9953445 ,  0.79603529],\n",
       "       [ 1.65743178, -0.10410861,  1.16687347,  0.52920782],\n",
       "       [ 0.20654925, -1.92127713,  0.13769965, -0.27127459],\n",
       "       [ 0.81108364, -0.10410861,  0.82381553,  1.06286276],\n",
       "       [-1.12342641, -1.466985  , -0.26253462, -0.27127459],\n",
       "       [-0.88161265, -1.23983894, -0.43406359, -0.13786086],\n",
       "       [ 1.29471115,  0.35018352,  1.10969715,  1.46310396],\n",
       "       [ 1.05289739, -1.23983894,  1.16687347,  0.79603529],\n",
       "       [ 0.08564237,  0.35018352,  0.59511023,  0.79603529],\n",
       "       [ 0.448363  , -1.92127713,  0.42358126,  0.39579408],\n",
       "       [-0.51889202,  1.94020597, -1.40606109, -1.07175701],\n",
       "       [ 1.05289739, -0.10410861,  0.82381553,  1.46310396],\n",
       "       [-1.48614704,  0.12303745, -1.29170844, -1.33858448],\n",
       "       [-1.00251953,  1.03162171, -1.23453212, -0.80492954],\n",
       "       [-0.88161265,  1.71305991, -1.23453212, -1.33858448],\n",
       "       [-0.03526451, -0.78554681,  0.7666392 ,  0.92944902],\n",
       "       [ 0.69017676,  0.35018352,  0.42358126,  0.39579408],\n",
       "       [-0.39798514,  1.03162171, -1.40606109, -1.33858448],\n",
       "       [-0.88161265,  1.71305991, -1.29170844, -1.20517074],\n",
       "       [ 1.29471115,  0.12303745,  0.7666392 ,  1.46310396],\n",
       "       [-1.12342641,  0.12303745, -1.29170844, -1.47199821],\n",
       "       [-0.27707826, -0.10410861,  0.19487597,  0.12896661],\n",
       "       [ 1.29471115,  0.12303745,  0.65228656,  0.39579408],\n",
       "       [ 0.56926988, -0.33125468,  1.05252082,  0.79603529],\n",
       "       [ 1.05289739,  0.12303745,  0.36640494,  0.26238035],\n",
       "       [-0.27707826, -1.23983894,  0.08052332, -0.13786086],\n",
       "       [-1.00251953, -0.10410861, -1.23453212, -1.33858448],\n",
       "       [-0.15617138, -1.23983894,  0.70946288,  1.06286276],\n",
       "       [-0.03526451, -1.01269287,  0.13769965, -0.00444712],\n",
       "       [-1.36524016,  0.35018352, -1.23453212, -1.33858448],\n",
       "       [ 0.448363  , -0.33125468,  0.30922862,  0.12896661],\n",
       "       [-1.72796079,  0.35018352, -1.40606109, -1.33858448],\n",
       "       [-0.39798514, -1.466985  ,  0.023347  , -0.13786086],\n",
       "       [ 0.81108364,  0.35018352,  0.7666392 ,  1.06286276],\n",
       "       [-0.51889202,  0.80447565, -1.29170844, -1.07175701],\n",
       "       [-1.00251953, -1.69413107, -0.26253462, -0.27127459],\n",
       "       [ 0.08564237, -0.10410861,  0.7666392 ,  0.79603529],\n",
       "       [ 2.50377993,  1.71305991,  1.50993141,  1.06286276]])"
      ]
     },
     "execution_count": 8,
     "metadata": {},
     "output_type": "execute_result"
    }
   ],
   "source": [
    "x_train"
   ]
  },
  {
   "cell_type": "code",
   "execution_count": 9,
   "id": "38aae6ac",
   "metadata": {},
   "outputs": [
    {
     "data": {
      "text/plain": [
       "GaussianNB()"
      ]
     },
     "execution_count": 9,
     "metadata": {},
     "output_type": "execute_result"
    }
   ],
   "source": [
    "from sklearn.naive_bayes import GaussianNB \n",
    "nvclassifier = GaussianNB()\n",
    "\n",
    "nvclassifier.fit(x_train, y_train)"
   ]
  },
  {
   "cell_type": "code",
   "execution_count": 10,
   "id": "e47e7d71",
   "metadata": {},
   "outputs": [
    {
     "data": {
      "text/plain": [
       "array(['Iris-virginica', 'Iris-virginica', 'Iris-setosa', 'Iris-setosa',\n",
       "       'Iris-setosa', 'Iris-virginica', 'Iris-versicolor',\n",
       "       'Iris-versicolor', 'Iris-versicolor', 'Iris-versicolor',\n",
       "       'Iris-versicolor', 'Iris-virginica', 'Iris-setosa', 'Iris-setosa',\n",
       "       'Iris-setosa', 'Iris-setosa', 'Iris-virginica', 'Iris-versicolor',\n",
       "       'Iris-setosa', 'Iris-versicolor', 'Iris-setosa', 'Iris-virginica',\n",
       "       'Iris-setosa', 'Iris-virginica', 'Iris-virginica',\n",
       "       'Iris-versicolor', 'Iris-virginica', 'Iris-setosa',\n",
       "       'Iris-virginica', 'Iris-versicolor'], dtype='<U15')"
      ]
     },
     "execution_count": 10,
     "metadata": {},
     "output_type": "execute_result"
    }
   ],
   "source": [
    "y_pred=nvclassifier.predict(x_test)\n",
    "y_pred"
   ]
  },
  {
   "cell_type": "code",
   "execution_count": 17,
   "id": "dbbde753",
   "metadata": {},
   "outputs": [],
   "source": [
    "y_pred=nvclassifier.predict(x_test)\n",
    "y_train_pred=nvclassifier.predict(x_train)"
   ]
  },
  {
   "cell_type": "code",
   "execution_count": 19,
   "id": "313958f7",
   "metadata": {},
   "outputs": [
    {
     "data": {
      "text/plain": [
       "0.9666666666666667"
      ]
     },
     "execution_count": 19,
     "metadata": {},
     "output_type": "execute_result"
    }
   ],
   "source": [
    "from sklearn.metrics import accuracy_score\n",
    "accuracy_score(y_train_pred,y_train)"
   ]
  },
  {
   "cell_type": "code",
   "execution_count": 20,
   "id": "2e8a82f0",
   "metadata": {},
   "outputs": [
    {
     "data": {
      "text/plain": [
       "0.9333333333333333"
      ]
     },
     "execution_count": 20,
     "metadata": {},
     "output_type": "execute_result"
    }
   ],
   "source": [
    "accuracy_score(y_pred,y_test)"
   ]
  },
  {
   "cell_type": "code",
   "execution_count": 11,
   "id": "9477d55a",
   "metadata": {},
   "outputs": [
    {
     "data": {
      "text/plain": [
       "array([[11,  0,  0],\n",
       "       [ 0,  8,  1],\n",
       "       [ 0,  1,  9]], dtype=int64)"
      ]
     },
     "execution_count": 11,
     "metadata": {},
     "output_type": "execute_result"
    }
   ],
   "source": [
    "from sklearn.metrics import confusion_matrix\n",
    "confusion=confusion_matrix(y_test,y_pred)\n",
    "confusion"
   ]
  },
  {
   "cell_type": "code",
   "execution_count": 31,
   "id": "ed92604b",
   "metadata": {},
   "outputs": [
    {
     "name": "stdout",
     "output_type": "stream",
     "text": [
      "Correct predictions:, corrPred\n",
      "False predictions, falsePred\n",
      "\n",
      "\n",
      "Accuracy of the Naive Bayes Clasification is: 0.9333333333333333\n"
     ]
    }
   ],
   "source": [
    "a = confusion.shape\n",
    "\n",
    "corrPred=0\n",
    "\n",
    "falsePred=0\n",
    "\n",
    "for row in range(a[0]):\n",
    "    for c in range(a[1]):\n",
    "        if row == c:\n",
    "            corrPred +=confusion[row, c]\n",
    "        else:\n",
    "            falsePred += confusion[row, c]\n",
    "print('Correct predictions:, corrPred')\n",
    "\n",
    "print('False predictions, falsePred')\n",
    "\n",
    "print ('\\n\\nAccuracy of the Naive Bayes Clasification is:',corrPred/(confusion.sum()))\n",
    "\n"
   ]
  }
 ],
 "metadata": {
  "kernelspec": {
   "display_name": "Python 3",
   "language": "python",
   "name": "python3"
  },
  "language_info": {
   "codemirror_mode": {
    "name": "ipython",
    "version": 3
   },
   "file_extension": ".py",
   "mimetype": "text/x-python",
   "name": "python",
   "nbconvert_exporter": "python",
   "pygments_lexer": "ipython3",
   "version": "3.8.8"
  }
 },
 "nbformat": 4,
 "nbformat_minor": 5
}
