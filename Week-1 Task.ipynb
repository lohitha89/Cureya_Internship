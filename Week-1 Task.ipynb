{
 "cells": [
  {
   "cell_type": "markdown",
   "id": "838b00ef",
   "metadata": {},
   "source": [
    "### CALUCLATING ARITHMETIC MEAN,MEDIAN,MODE USING NUMPY\n"
   ]
  },
  {
   "cell_type": "code",
   "execution_count": 81,
   "id": "14a43089",
   "metadata": {},
   "outputs": [],
   "source": [
    "#importing libraries\n",
    "import numpy as np\n",
    "import pandas as pd\n",
    "import matplotlib.pyplot as plt\n",
    "import statistics as stats\n"
   ]
  },
  {
   "cell_type": "code",
   "execution_count": 80,
   "id": "200d054d",
   "metadata": {},
   "outputs": [
    {
     "name": "stdout",
     "output_type": "stream",
     "text": [
      "29.5\n",
      "12.0\n",
      "0\n"
     ]
    },
    {
     "data": {
      "image/png": "[encoded data removed]",
      "text/plain": [
       "<Figure size 432x288 with 1 Axes>"
      ]
     },
     "metadata": {
      "needs_background": "light"
     },
     "output_type": "display_data"
    }
   ],
   "source": [
    "#creating list and caluclating the mean,median,mode \n",
    "\n",
    "lst=[0,8,7,6,5,4,65,63,3,4,78,64,0,33,12,13,12,45,78,90]\n",
    "# CALUCLATING MEAN\n",
    "mean=np.mean(lst)\n",
    "print(mean)\n",
    "\n",
    "# CALUCLATING MEDIAN\n",
    "median=np.median(lst)\n",
    "\n",
    "print(median)\n",
    "\n",
    "# CALUCLATING MODE\n",
    "mode=stats.mode(lst)\n",
    "print(mode)\n",
    "\n",
    "#plotting the graph using matplotlib\n",
    "plt.scatter(mean,median)\n",
    "plt.show()\n"
   ]
  },
  {
   "cell_type": "code",
   "execution_count": 82,
   "id": "bfb61492",
   "metadata": {},
   "outputs": [
    {
     "data": {
      "image/png": "[encoded data removed]",
      "text/plain": [
       "<Figure size 432x288 with 1 Axes>"
      ]
     },
     "metadata": {
      "needs_background": "light"
     },
     "output_type": "display_data"
    }
   ],
   "source": [
    "#plotting the graph using matplotlib\n",
    "plt.scatter(median,mode,color='yellow')\n",
    "plt.show()"
   ]
  },
  {
   "cell_type": "code",
   "execution_count": 83,
   "id": "d9df05e7",
   "metadata": {},
   "outputs": [
    {
     "data": {
      "image/png": "[encoded data removed]",
      "text/plain": [
       "<Figure size 432x288 with 1 Axes>"
      ]
     },
     "metadata": {
      "needs_background": "light"
     },
     "output_type": "display_data"
    }
   ],
   "source": [
    "#plotting the graph using matplotlib\n",
    "plt.scatter(mean,mode,color='red')\n",
    "plt.show()"
   ]
  },
  {
   "cell_type": "markdown",
   "id": "f04800d9",
   "metadata": {},
   "source": [
    "# CALUCLATING ARITHMETIC MEAN,MEDIAN,MODE WITHOUT USING NUMPY"
   ]
  },
  {
   "cell_type": "code",
   "execution_count": 84,
   "id": "02ac1dd8",
   "metadata": {},
   "outputs": [
    {
     "name": "stdout",
     "output_type": "stream",
     "text": [
      "29.5\n",
      "10.0\n"
     ]
    }
   ],
   "source": [
    "#creating list\n",
    "lst=[0,8,7,6,5,4,65,63,3,4,78,64,0,33,12,13,12,45,78,90]\n",
    "\n",
    "#CALUCLATING ARITHMETIC MEAN\n",
    "mean=sum(lst)/len(lst)\n",
    "print(mean)\n",
    "\n",
    "#CALUCLATING MEDIAN\n",
    "median=len(lst)/2\n",
    "print(median)"
   ]
  },
  {
   "cell_type": "code",
   "execution_count": 85,
   "id": "2a90e593",
   "metadata": {},
   "outputs": [
    {
     "data": {
      "text/plain": [
       "[(0, 2)]"
      ]
     },
     "execution_count": 85,
     "metadata": {},
     "output_type": "execute_result"
    }
   ],
   "source": [
    "# CALUCLATING MODE\n",
    "lst=[0,8,7,6,5,4,65,63,3,4,78,64,0,33,12,13,12,45,78,90]\n",
    "from collections import Counter\n",
    "data = Counter(lst)\n",
    "# Returns all unique items and their counts\n",
    "data.most_common()\n",
    "# Returns the highest occuring term\n",
    "data.most_common(1) "
   ]
  },
  {
   "cell_type": "code",
   "execution_count": 86,
   "id": "9a0f6d3c",
   "metadata": {},
   "outputs": [
    {
     "data": {
      "image/png": "[encoded data removed]",
      "text/plain": [
       "<Figure size 432x288 with 1 Axes>"
      ]
     },
     "metadata": {
      "needs_background": "light"
     },
     "output_type": "display_data"
    }
   ],
   "source": [
    "plt.scatter(mean,median)\n",
    "plt.show()"
   ]
  },
  {
   "cell_type": "code",
   "execution_count": null,
   "id": "b3246887",
   "metadata": {},
   "outputs": [],
   "source": []
  }
 ],
 "metadata": {
  "kernelspec": {
   "display_name": "Python 3",
   "language": "python",
   "name": "python3"
  },
  "language_info": {
   "codemirror_mode": {
    "name": "ipython",
    "version": 3
   },
   "file_extension": ".py",
   "mimetype": "text/x-python",
   "name": "python",
   "nbconvert_exporter": "python",
   "pygments_lexer": "ipython3",
   "version": "3.8.8"
  }
 },
 "nbformat": 4,
 "nbformat_minor": 5
}
